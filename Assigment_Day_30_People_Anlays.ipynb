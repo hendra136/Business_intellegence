{
  "nbformat": 4,
  "nbformat_minor": 0,
  "metadata": {
    "colab": {
      "provenance": [],
      "mount_file_id": "1csq53CTWAoSMgSFkp54GIdJw6QEAkw7P",
      "authorship_tag": "ABX9TyN93ymhejI6NlDZPA0vw14l",
      "include_colab_link": true
    },
    "kernelspec": {
      "name": "python3",
      "display_name": "Python 3"
    },
    "language_info": {
      "name": "python"
    }
  },
  "cells": [
    {
      "cell_type": "markdown",
      "metadata": {
        "id": "view-in-github",
        "colab_type": "text"
      },
      "source": [
        "<a href=\"https://colab.research.google.com/github/hendra136/Business_intellegence/blob/main/Assigment_Day_30_People_Anlays.ipynb\" target=\"_parent\"><img src=\"https://colab.research.google.com/assets/colab-badge.svg\" alt=\"Open In Colab\"/></a>"
      ]
    },
    {
      "cell_type": "code",
      "execution_count": null,
      "metadata": {
        "id": "uS0b23eo9_j6"
      },
      "outputs": [],
      "source": [
        "# Import library yang diperlukan\n",
        "import pandas as pd\n"
      ]
    },
    {
      "cell_type": "code",
      "source": [
        "from google.colab import files\n",
        "uploaded = files.upload()"
      ],
      "metadata": {
        "colab": {
          "base_uri": "https://localhost:8080/",
          "height": 73
        },
        "id": "3mnBlHhG-FUJ",
        "outputId": "6b99f2ec-d892-47f7-8e96-3aa284810b89"
      },
      "execution_count": null,
      "outputs": [
        {
          "output_type": "display_data",
          "data": {
            "text/plain": [
              "<IPython.core.display.HTML object>"
            ],
            "text/html": [
              "\n",
              "     <input type=\"file\" id=\"files-113b0dcc-6eaa-4c93-abec-5ba78eadea8e\" name=\"files[]\" multiple disabled\n",
              "        style=\"border:none\" />\n",
              "     <output id=\"result-113b0dcc-6eaa-4c93-abec-5ba78eadea8e\">\n",
              "      Upload widget is only available when the cell has been executed in the\n",
              "      current browser session. Please rerun this cell to enable.\n",
              "      </output>\n",
              "      <script>// Copyright 2017 Google LLC\n",
              "//\n",
              "// Licensed under the Apache License, Version 2.0 (the \"License\");\n",
              "// you may not use this file except in compliance with the License.\n",
              "// You may obtain a copy of the License at\n",
              "//\n",
              "//      http://www.apache.org/licenses/LICENSE-2.0\n",
              "//\n",
              "// Unless required by applicable law or agreed to in writing, software\n",
              "// distributed under the License is distributed on an \"AS IS\" BASIS,\n",
              "// WITHOUT WARRANTIES OR CONDITIONS OF ANY KIND, either express or implied.\n",
              "// See the License for the specific language governing permissions and\n",
              "// limitations under the License.\n",
              "\n",
              "/**\n",
              " * @fileoverview Helpers for google.colab Python module.\n",
              " */\n",
              "(function(scope) {\n",
              "function span(text, styleAttributes = {}) {\n",
              "  const element = document.createElement('span');\n",
              "  element.textContent = text;\n",
              "  for (const key of Object.keys(styleAttributes)) {\n",
              "    element.style[key] = styleAttributes[key];\n",
              "  }\n",
              "  return element;\n",
              "}\n",
              "\n",
              "// Max number of bytes which will be uploaded at a time.\n",
              "const MAX_PAYLOAD_SIZE = 100 * 1024;\n",
              "\n",
              "function _uploadFiles(inputId, outputId) {\n",
              "  const steps = uploadFilesStep(inputId, outputId);\n",
              "  const outputElement = document.getElementById(outputId);\n",
              "  // Cache steps on the outputElement to make it available for the next call\n",
              "  // to uploadFilesContinue from Python.\n",
              "  outputElement.steps = steps;\n",
              "\n",
              "  return _uploadFilesContinue(outputId);\n",
              "}\n",
              "\n",
              "// This is roughly an async generator (not supported in the browser yet),\n",
              "// where there are multiple asynchronous steps and the Python side is going\n",
              "// to poll for completion of each step.\n",
              "// This uses a Promise to block the python side on completion of each step,\n",
              "// then passes the result of the previous step as the input to the next step.\n",
              "function _uploadFilesContinue(outputId) {\n",
              "  const outputElement = document.getElementById(outputId);\n",
              "  const steps = outputElement.steps;\n",
              "\n",
              "  const next = steps.next(outputElement.lastPromiseValue);\n",
              "  return Promise.resolve(next.value.promise).then((value) => {\n",
              "    // Cache the last promise value to make it available to the next\n",
              "    // step of the generator.\n",
              "    outputElement.lastPromiseValue = value;\n",
              "    return next.value.response;\n",
              "  });\n",
              "}\n",
              "\n",
              "/**\n",
              " * Generator function which is called between each async step of the upload\n",
              " * process.\n",
              " * @param {string} inputId Element ID of the input file picker element.\n",
              " * @param {string} outputId Element ID of the output display.\n",
              " * @return {!Iterable<!Object>} Iterable of next steps.\n",
              " */\n",
              "function* uploadFilesStep(inputId, outputId) {\n",
              "  const inputElement = document.getElementById(inputId);\n",
              "  inputElement.disabled = false;\n",
              "\n",
              "  const outputElement = document.getElementById(outputId);\n",
              "  outputElement.innerHTML = '';\n",
              "\n",
              "  const pickedPromise = new Promise((resolve) => {\n",
              "    inputElement.addEventListener('change', (e) => {\n",
              "      resolve(e.target.files);\n",
              "    });\n",
              "  });\n",
              "\n",
              "  const cancel = document.createElement('button');\n",
              "  inputElement.parentElement.appendChild(cancel);\n",
              "  cancel.textContent = 'Cancel upload';\n",
              "  const cancelPromise = new Promise((resolve) => {\n",
              "    cancel.onclick = () => {\n",
              "      resolve(null);\n",
              "    };\n",
              "  });\n",
              "\n",
              "  // Wait for the user to pick the files.\n",
              "  const files = yield {\n",
              "    promise: Promise.race([pickedPromise, cancelPromise]),\n",
              "    response: {\n",
              "      action: 'starting',\n",
              "    }\n",
              "  };\n",
              "\n",
              "  cancel.remove();\n",
              "\n",
              "  // Disable the input element since further picks are not allowed.\n",
              "  inputElement.disabled = true;\n",
              "\n",
              "  if (!files) {\n",
              "    return {\n",
              "      response: {\n",
              "        action: 'complete',\n",
              "      }\n",
              "    };\n",
              "  }\n",
              "\n",
              "  for (const file of files) {\n",
              "    const li = document.createElement('li');\n",
              "    li.append(span(file.name, {fontWeight: 'bold'}));\n",
              "    li.append(span(\n",
              "        `(${file.type || 'n/a'}) - ${file.size} bytes, ` +\n",
              "        `last modified: ${\n",
              "            file.lastModifiedDate ? file.lastModifiedDate.toLocaleDateString() :\n",
              "                                    'n/a'} - `));\n",
              "    const percent = span('0% done');\n",
              "    li.appendChild(percent);\n",
              "\n",
              "    outputElement.appendChild(li);\n",
              "\n",
              "    const fileDataPromise = new Promise((resolve) => {\n",
              "      const reader = new FileReader();\n",
              "      reader.onload = (e) => {\n",
              "        resolve(e.target.result);\n",
              "      };\n",
              "      reader.readAsArrayBuffer(file);\n",
              "    });\n",
              "    // Wait for the data to be ready.\n",
              "    let fileData = yield {\n",
              "      promise: fileDataPromise,\n",
              "      response: {\n",
              "        action: 'continue',\n",
              "      }\n",
              "    };\n",
              "\n",
              "    // Use a chunked sending to avoid message size limits. See b/62115660.\n",
              "    let position = 0;\n",
              "    do {\n",
              "      const length = Math.min(fileData.byteLength - position, MAX_PAYLOAD_SIZE);\n",
              "      const chunk = new Uint8Array(fileData, position, length);\n",
              "      position += length;\n",
              "\n",
              "      const base64 = btoa(String.fromCharCode.apply(null, chunk));\n",
              "      yield {\n",
              "        response: {\n",
              "          action: 'append',\n",
              "          file: file.name,\n",
              "          data: base64,\n",
              "        },\n",
              "      };\n",
              "\n",
              "      let percentDone = fileData.byteLength === 0 ?\n",
              "          100 :\n",
              "          Math.round((position / fileData.byteLength) * 100);\n",
              "      percent.textContent = `${percentDone}% done`;\n",
              "\n",
              "    } while (position < fileData.byteLength);\n",
              "  }\n",
              "\n",
              "  // All done.\n",
              "  yield {\n",
              "    response: {\n",
              "      action: 'complete',\n",
              "    }\n",
              "  };\n",
              "}\n",
              "\n",
              "scope.google = scope.google || {};\n",
              "scope.google.colab = scope.google.colab || {};\n",
              "scope.google.colab._files = {\n",
              "  _uploadFiles,\n",
              "  _uploadFilesContinue,\n",
              "};\n",
              "})(self);\n",
              "</script> "
            ]
          },
          "metadata": {}
        },
        {
          "output_type": "stream",
          "name": "stdout",
          "text": [
            "Saving HRDataset_v14.csv to HRDataset_v14 (1).csv\n"
          ]
        }
      ]
    },
    {
      "cell_type": "code",
      "source": [
        "# Membaca dataset menjadi dataframe\n",
        "df = pd.read_csv('HRDataset_v14.csv')"
      ],
      "metadata": {
        "id": "CyP3hju2-giw"
      },
      "execution_count": null,
      "outputs": []
    },
    {
      "cell_type": "code",
      "source": [
        "# Menampilkan lima baris pertama\n",
        "print(df.head())"
      ],
      "metadata": {
        "colab": {
          "base_uri": "https://localhost:8080/"
        },
        "id": "WwRtZ6z8-k16",
        "outputId": "8587a51f-13aa-4187-b4c2-aa16c46c9b0f"
      },
      "execution_count": null,
      "outputs": [
        {
          "output_type": "stream",
          "name": "stdout",
          "text": [
            "              Employee_Name  EmpID  MarriedID  MaritalStatusID  GenderID  \\\n",
            "0       Adinolfi, Wilson  K  10026          0                0         1   \n",
            "1  Ait Sidi, Karthikeyan     10084          1                1         1   \n",
            "2         Akinkuolie, Sarah  10196          1                1         0   \n",
            "3              Alagbe,Trina  10088          1                1         0   \n",
            "4          Anderson, Carol   10069          0                2         0   \n",
            "\n",
            "   EmpStatusID  DeptID  PerfScoreID  FromDiversityJobFairID  Salary  ...  \\\n",
            "0            1       5            4                       0   62506  ...   \n",
            "1            5       3            3                       0  104437  ...   \n",
            "2            5       5            3                       0   64955  ...   \n",
            "3            1       5            3                       0   64991  ...   \n",
            "4            5       5            3                       0   50825  ...   \n",
            "\n",
            "      ManagerName  ManagerID RecruitmentSource PerformanceScore  \\\n",
            "0  Michael Albert       22.0          LinkedIn          Exceeds   \n",
            "1      Simon Roup        4.0            Indeed      Fully Meets   \n",
            "2  Kissy Sullivan       20.0          LinkedIn      Fully Meets   \n",
            "3    Elijiah Gray       16.0            Indeed      Fully Meets   \n",
            "4  Webster Butler       39.0     Google Search      Fully Meets   \n",
            "\n",
            "   EngagementSurvey EmpSatisfaction SpecialProjectsCount  \\\n",
            "0              4.60               5                    0   \n",
            "1              4.96               3                    6   \n",
            "2              3.02               3                    0   \n",
            "3              4.84               5                    0   \n",
            "4              5.00               4                    0   \n",
            "\n",
            "  LastPerformanceReview_Date DaysLateLast30 Absences  \n",
            "0                  1/17/2019              0        1  \n",
            "1                  2/24/2016              0       17  \n",
            "2                  5/15/2012              0        3  \n",
            "3                   1/3/2019              0       15  \n",
            "4                   2/1/2016              0        2  \n",
            "\n",
            "[5 rows x 36 columns]\n"
          ]
        }
      ]
    },
    {
      "cell_type": "code",
      "source": [
        "# Melihat informasi umum tentang dataset, seperti nama kolom, tipe data, dan nilai yang hilang\n",
        "print(\"\\nInformasi umum tentang dataset:\")\n",
        "print(df.info())"
      ],
      "metadata": {
        "colab": {
          "base_uri": "https://localhost:8080/"
        },
        "id": "ZhGkvtNE-zn1",
        "outputId": "ff518a56-1479-424b-ccdf-5691b69d6ff6"
      },
      "execution_count": null,
      "outputs": [
        {
          "output_type": "stream",
          "name": "stdout",
          "text": [
            "\n",
            "Informasi umum tentang dataset:\n",
            "<class 'pandas.core.frame.DataFrame'>\n",
            "RangeIndex: 311 entries, 0 to 310\n",
            "Data columns (total 36 columns):\n",
            " #   Column                      Non-Null Count  Dtype  \n",
            "---  ------                      --------------  -----  \n",
            " 0   Employee_Name               311 non-null    object \n",
            " 1   EmpID                       311 non-null    int64  \n",
            " 2   MarriedID                   311 non-null    int64  \n",
            " 3   MaritalStatusID             311 non-null    int64  \n",
            " 4   GenderID                    311 non-null    int64  \n",
            " 5   EmpStatusID                 311 non-null    int64  \n",
            " 6   DeptID                      311 non-null    int64  \n",
            " 7   PerfScoreID                 311 non-null    int64  \n",
            " 8   FromDiversityJobFairID      311 non-null    int64  \n",
            " 9   Salary                      311 non-null    int64  \n",
            " 10  Termd                       311 non-null    int64  \n",
            " 11  PositionID                  311 non-null    int64  \n",
            " 12  Position                    311 non-null    object \n",
            " 13  State                       311 non-null    object \n",
            " 14  Zip                         311 non-null    int64  \n",
            " 15  DOB                         311 non-null    object \n",
            " 16  Sex                         311 non-null    object \n",
            " 17  MaritalDesc                 311 non-null    object \n",
            " 18  CitizenDesc                 311 non-null    object \n",
            " 19  HispanicLatino              311 non-null    object \n",
            " 20  RaceDesc                    311 non-null    object \n",
            " 21  DateofHire                  311 non-null    object \n",
            " 22  DateofTermination           104 non-null    object \n",
            " 23  TermReason                  311 non-null    object \n",
            " 24  EmploymentStatus            311 non-null    object \n",
            " 25  Department                  311 non-null    object \n",
            " 26  ManagerName                 311 non-null    object \n",
            " 27  ManagerID                   303 non-null    float64\n",
            " 28  RecruitmentSource           311 non-null    object \n",
            " 29  PerformanceScore            311 non-null    object \n",
            " 30  EngagementSurvey            311 non-null    float64\n",
            " 31  EmpSatisfaction             311 non-null    int64  \n",
            " 32  SpecialProjectsCount        311 non-null    int64  \n",
            " 33  LastPerformanceReview_Date  311 non-null    object \n",
            " 34  DaysLateLast30              311 non-null    int64  \n",
            " 35  Absences                    311 non-null    int64  \n",
            "dtypes: float64(2), int64(16), object(18)\n",
            "memory usage: 87.6+ KB\n",
            "None\n"
          ]
        }
      ]
    },
    {
      "cell_type": "markdown",
      "source": [
        "# Prepocessing"
      ],
      "metadata": {
        "id": "BNF-HCbxAvQD"
      }
    },
    {
      "cell_type": "code",
      "source": [
        "# Memeriksa apakah ada nilai yang hilang dalam dataset\n",
        "print(\"\\nJumlah nilai yang hilang dalam setiap kolom:\")\n",
        "print(df.isnull().sum())"
      ],
      "metadata": {
        "colab": {
          "base_uri": "https://localhost:8080/"
        },
        "id": "NYWCfQ6l-_3d",
        "outputId": "2511dcb3-6cff-4b1f-9763-f144f83bc702"
      },
      "execution_count": null,
      "outputs": [
        {
          "output_type": "stream",
          "name": "stdout",
          "text": [
            "\n",
            "Jumlah nilai yang hilang dalam setiap kolom:\n",
            "Employee_Name                   0\n",
            "EmpID                           0\n",
            "MarriedID                       0\n",
            "MaritalStatusID                 0\n",
            "GenderID                        0\n",
            "EmpStatusID                     0\n",
            "DeptID                          0\n",
            "PerfScoreID                     0\n",
            "FromDiversityJobFairID          0\n",
            "Salary                          0\n",
            "Termd                           0\n",
            "PositionID                      0\n",
            "Position                        0\n",
            "State                           0\n",
            "Zip                             0\n",
            "DOB                             0\n",
            "Sex                             0\n",
            "MaritalDesc                     0\n",
            "CitizenDesc                     0\n",
            "HispanicLatino                  0\n",
            "RaceDesc                        0\n",
            "DateofHire                      0\n",
            "DateofTermination             207\n",
            "TermReason                      0\n",
            "EmploymentStatus                0\n",
            "Department                      0\n",
            "ManagerName                     0\n",
            "ManagerID                       8\n",
            "RecruitmentSource               0\n",
            "PerformanceScore                0\n",
            "EngagementSurvey                0\n",
            "EmpSatisfaction                 0\n",
            "SpecialProjectsCount            0\n",
            "LastPerformanceReview_Date      0\n",
            "DaysLateLast30                  0\n",
            "Absences                        0\n",
            "dtype: int64\n"
          ]
        }
      ]
    },
    {
      "cell_type": "code",
      "source": [
        "# Memeriksa apakah ada data duplikat dalam dataset\n",
        "print(\"\\nJumlah data duplikat dalam dataset:\", df.duplicated().sum())"
      ],
      "metadata": {
        "colab": {
          "base_uri": "https://localhost:8080/"
        },
        "id": "42HjWsS9_Eta",
        "outputId": "64c741a3-7e2d-47a9-edec-057968e1e64a"
      },
      "execution_count": null,
      "outputs": [
        {
          "output_type": "stream",
          "name": "stdout",
          "text": [
            "\n",
            "Jumlah data duplikat dalam dataset: 0\n"
          ]
        }
      ]
    },
    {
      "cell_type": "code",
      "source": [
        "# Menghilangkan tanda koma di kolom Employee_Name\n",
        "df[\"Employee_Name\"] = df[\"Employee_Name\"].str.replace(\",\", \"\")\n",
        "# Menampilkan hasil preprocessing\n",
        "print(df[\"Employee_Name\"].head())"
      ],
      "metadata": {
        "colab": {
          "base_uri": "https://localhost:8080/"
        },
        "id": "kOuD01bD_I7c",
        "outputId": "5617e071-74e8-4a94-b217-d611ce0c31e4"
      },
      "execution_count": null,
      "outputs": [
        {
          "output_type": "stream",
          "name": "stdout",
          "text": [
            "0         Adinolfi Wilson  K\n",
            "1    Ait Sidi Karthikeyan   \n",
            "2           Akinkuolie Sarah\n",
            "3                AlagbeTrina\n",
            "4            Anderson Carol \n",
            "Name: Employee_Name, dtype: object\n"
          ]
        }
      ]
    },
    {
      "cell_type": "markdown",
      "source": [
        "## **Import Pustaka**"
      ],
      "metadata": {
        "id": "1JcglVTKCIgv"
      }
    },
    {
      "cell_type": "code",
      "source": [
        "import matplotlib.pyplot as plt\n",
        "import seaborn as sns\n",
        "from scipy.stats import f_oneway\n",
        "from sklearn.preprocessing import LabelEncoder\n",
        "from sklearn.linear_model import LinearRegression\n",
        "from sklearn.model_selection import train_test_split\n",
        "from sklearn.metrics import mean_squared_error\n",
        "from sklearn.linear_model import LogisticRegression\n",
        "from sklearn.metrics import accuracy_score, classification_report"
      ],
      "metadata": {
        "id": "mhVCmwDPAykH"
      },
      "execution_count": null,
      "outputs": []
    },
    {
      "cell_type": "code",
      "source": [
        "# Membuat salinan dataset untuk menghindari perubahan pada dataframe asli\n",
        "df_encoded = df.copy()\n"
      ],
      "metadata": {
        "id": "_bu6CQZJ1d0b"
      },
      "execution_count": null,
      "outputs": []
    },
    {
      "cell_type": "code",
      "source": [
        "# Melakukan label encoding pada kolom 'PerformanceScore'\n",
        "label_encoder = LabelEncoder()\n",
        "df_encoded['PerformanceScore'] = label_encoder.fit_transform(df_encoded['PerformanceScore'])"
      ],
      "metadata": {
        "id": "D2kAuW251gQ_"
      },
      "execution_count": null,
      "outputs": []
    },
    {
      "cell_type": "code",
      "source": [
        "# Membagi data ke dalam kelompok berdasarkan departemen\n",
        "department_groups = [df_encoded[df_encoded['Department'] == department]['PerformanceScore'] for department in df_encoded['Department'].unique()]\n"
      ],
      "metadata": {
        "id": "zL-dd5C21jbf"
      },
      "execution_count": null,
      "outputs": []
    },
    {
      "cell_type": "markdown",
      "source": [
        "## Analisis Deskriptif"
      ],
      "metadata": {
        "id": "A8GCiioZCW3G"
      }
    },
    {
      "cell_type": "markdown",
      "source": [
        "**Distribusi Gaji**"
      ],
      "metadata": {
        "id": "oSl2N-qkCapi"
      }
    },
    {
      "cell_type": "code",
      "source": [
        "# Visualisasi distribusi tingkat gaji\n",
        "sns.distplot(df[\"Salary\"])\n",
        "plt.show()\n",
        "\n",
        "# Insight: Terdapat distribusi gaji yang cukup merata, dengan sedikit karyawan bergaji tinggi.\n"
      ],
      "metadata": {
        "colab": {
          "base_uri": "https://localhost:8080/",
          "height": 656
        },
        "id": "sHjI_2PxCMNo",
        "outputId": "7484fb8d-8bfc-48a8-b79f-f2db86605381"
      },
      "execution_count": null,
      "outputs": [
        {
          "output_type": "stream",
          "name": "stderr",
          "text": [
            "<ipython-input-13-c5f589ea4095>:2: UserWarning: \n",
            "\n",
            "`distplot` is a deprecated function and will be removed in seaborn v0.14.0.\n",
            "\n",
            "Please adapt your code to use either `displot` (a figure-level function with\n",
            "similar flexibility) or `histplot` (an axes-level function for histograms).\n",
            "\n",
            "For a guide to updating your code to use the new functions, please see\n",
            "https://gist.github.com/mwaskom/de44147ed2974457ad6372750bbe5751\n",
            "\n",
            "  sns.distplot(df[\"Salary\"])\n"
          ]
        },
        {
          "output_type": "display_data",
          "data": {
            "text/plain": [
              "<Figure size 640x480 with 1 Axes>"
            ],
            "image/png": "[encoded data removed]"
          },
          "metadata": {}
        }
      ]
    },
    {
      "cell_type": "code",
      "source": [
        "# Mengelompokkan data berdasarkan tahun\n",
        "data_grouped_by_year = df.groupby(\"DateofHire\")[\"EmpID\"].count()\n",
        "\n",
        "# Visualisasi tren tingkat retensi karyawan\n",
        "plt.plot(data_grouped_by_year.index, data_grouped_by_year.values)\n",
        "plt.show()\n",
        "\n",
        "# Insight: Terdapat tren penurunan tingkat retensi karyawan dalam beberapa tahun terakhir.\n"
      ],
      "metadata": {
        "colab": {
          "base_uri": "https://localhost:8080/",
          "height": 430
        },
        "id": "KvmLaXXbChw3",
        "outputId": "2738102c-a1f8-46b3-9b83-943ebb9e5333"
      },
      "execution_count": null,
      "outputs": [
        {
          "output_type": "display_data",
          "data": {
            "text/plain": [
              "<Figure size 640x480 with 1 Axes>"
            ],
            "image/png": "[encoded data removed]"
          },
          "metadata": {}
        }
      ]
    },
    {
      "cell_type": "markdown",
      "source": [
        "## **Apakah ada hubungan antara pada siapa seseorang bekerja dan skor kinerjanya ?**"
      ],
      "metadata": {
        "id": "c_AaYEdwEEUX"
      }
    },
    {
      "cell_type": "markdown",
      "source": [
        "**Analisis Uji Anova**"
      ],
      "metadata": {
        "id": "hyDJW5lrEpx_"
      }
    },
    {
      "cell_type": "code",
      "source": [
        "# Membagi data ke dalam kelompok berdasarkan departemen\n",
        "department_groups = []\n",
        "for department in df['Department'].unique():\n",
        "    department_groups.append(df[df['Department'] == department]['PerfScoreID'])"
      ],
      "metadata": {
        "id": "1MUg9iX1Fh-B"
      },
      "execution_count": null,
      "outputs": []
    },
    {
      "cell_type": "code",
      "source": [
        "# Lakukan uji ANOVA\n",
        "f_statistic, p_value = f_oneway(*department_groups)"
      ],
      "metadata": {
        "id": "-IuyzwDL1B_l"
      },
      "execution_count": null,
      "outputs": []
    },
    {
      "cell_type": "code",
      "source": [
        "# Tampilkan hasil uji ANOVA\n",
        "print(\"Hasil uji ANOVA:\")\n",
        "print(f\"F-statistic: {f_statistic}\")\n",
        "print(f\"P-value: {p_value}\")\n"
      ],
      "metadata": {
        "colab": {
          "base_uri": "https://localhost:8080/"
        },
        "id": "HgmRLZZn1Dcm",
        "outputId": "842b9d8b-98b6-42fa-bc48-483ae6d10993"
      },
      "execution_count": null,
      "outputs": [
        {
          "output_type": "stream",
          "name": "stdout",
          "text": [
            "Hasil uji ANOVA:\n",
            "F-statistic: 0.6299290922710361\n",
            "P-value: 0.6770480342569085\n"
          ]
        }
      ]
    },
    {
      "cell_type": "code",
      "source": [
        "# Interpretasi hasil\n",
        "if p_value < 0.05:\n",
        "    print(\"Terdapat perbedaan yang signifikan dalam skor kinerja antara kelompok departemen.\")\n",
        "else:\n",
        "    print(\"Tidak terdapat perbedaan yang signifikan dalam skor kinerja antara kelompok departemen.\")"
      ],
      "metadata": {
        "colab": {
          "base_uri": "https://localhost:8080/"
        },
        "id": "NyR55J_N1n8g",
        "outputId": "28978862-753e-4905-bdea-56628a886b1f"
      },
      "execution_count": null,
      "outputs": [
        {
          "output_type": "stream",
          "name": "stdout",
          "text": [
            "Tidak terdapat perbedaan yang signifikan dalam skor kinerja antara kelompok departemen.\n"
          ]
        }
      ]
    },
    {
      "cell_type": "markdown",
      "source": [
        "## **Jawaban Kesimpulan pertanyaan**\n",
        "Berdasarkan hasil analisis ANOVA yang menunjukkan bahwa tidak terdapat perbedaan yang signifikan dalam skor kinerja antara kelompok departemen, dapat disimpulkan bahwa tidak ada hubungan yang signifikan antara pada siapa seseorang bekerja (Manager) dan skor kinerjanya dalam perusahaan.\n",
        "\n",
        "Kesimpulan ini mengindikasikan bahwa, pada tingkat signifikansi yang dipilih, tidak ada bukti yang cukup untuk mendukung hipotesis bahwa departemen tempat seseorang bekerja memiliki pengaruh yang signifikan terhadap skor kinerja mereka. Ini berarti bahwa, setidaknya dalam konteks data yang telah dianalisis, variabel departemen tidak menjadi faktor penentu utama dalam menentukan kinerja karyawan.\n",
        "\n",
        "Dengan demikian, manajemen perusahaan mungkin perlu mengevaluasi faktor-faktor lain yang dapat memengaruhi skor kinerja karyawan, seperti kepemimpinan, lingkungan kerja, pelatihan dan pengembangan, dan sebagainya. Selain itu, dapat diperlukan analisis lebih lanjut untuk memahami dinamika yang mendasari skor kinerja karyawan dan mengidentifikasi faktor-faktor yang mungkin lebih memengaruhi kinerja daripada departemen tempat mereka bekerja."
      ],
      "metadata": {
        "id": "yflFmqrv2GpX"
      }
    },
    {
      "cell_type": "markdown",
      "source": [
        "## **Apakah ada area di perusahaan yang gajinya tidak adil?**"
      ],
      "metadata": {
        "id": "RyIwdh0H2to7"
      }
    },
    {
      "cell_type": "code",
      "source": [
        "# Bagi data menjadi kelompok berdasarkan area di perusahaan\n",
        "area_groups = [df[df['Department'] == area]['Salary'] for area in df['Department'].unique()]"
      ],
      "metadata": {
        "id": "mxPiIatV1rLN"
      },
      "execution_count": null,
      "outputs": []
    },
    {
      "cell_type": "code",
      "source": [
        "# Lakukan uji ANOVA\n",
        "f_statistic, p_value = f_oneway(*area_groups)\n",
        "# Tampilkan hasil uji ANOVA\n",
        "print(\"Hasil uji ANOVA:\")\n",
        "print(f\"F-statistic: {f_statistic}\")\n",
        "print(f\"P-value: {p_value}\")"
      ],
      "metadata": {
        "colab": {
          "base_uri": "https://localhost:8080/"
        },
        "id": "8lOO4aJE2yZy",
        "outputId": "ae8d4096-5bba-4c88-c25d-fa88e28058ed"
      },
      "execution_count": null,
      "outputs": [
        {
          "output_type": "stream",
          "name": "stdout",
          "text": [
            "Hasil uji ANOVA:\n",
            "F-statistic: 59.34834401921239\n",
            "P-value: 4.966770445881893e-43\n"
          ]
        }
      ]
    },
    {
      "cell_type": "code",
      "source": [
        "# Interpretasi hasil\n",
        "if p_value < 0.05:\n",
        "    print(\"Terdapat perbedaan yang signifikan dalam gaji antar area di perusahaan.\")\n",
        "else:\n",
        "    print(\"Tidak terdapat perbedaan yang signifikan dalam gaji antar area di perusahaan.\")"
      ],
      "metadata": {
        "colab": {
          "base_uri": "https://localhost:8080/"
        },
        "id": "u__jB-Ok3Jra",
        "outputId": "646b0ad7-be9c-4c04-cc44-80007bf17831"
      },
      "execution_count": null,
      "outputs": [
        {
          "output_type": "stream",
          "name": "stdout",
          "text": [
            "Terdapat perbedaan yang signifikan dalam gaji antar area di perusahaan.\n"
          ]
        }
      ]
    },
    {
      "cell_type": "markdown",
      "source": [
        "## **Kesimpulan Pertanyaan**\n",
        "Dengan menemukan bahwa ada perbedaan yang signifikan dalam gaji antar departemen di perusahaan, kita dapat menyimpulkan bahwa ada ketidakadilan dalam sistem penggajian di perusahaan tersebut. Perbedaan signifikan dalam gaji antar departemen menunjukkan bahwa ada departemen di perusahaan yang menerima gaji yang lebih rendah atau lebih tinggi secara signifikan dibandingkan dengan departemen lainnya, meskipun mungkin memiliki tanggung jawab atau kontribusi yang sebanding.\n",
        "\n",
        "Kesimpulan ini menunjukkan adanya masalah dalam kebijakan penggajian perusahaan yang perlu ditinjau ulang. Kemungkinan tindakan selanjutnya adalah melakukan analisis lebih lanjut untuk mengidentifikasi penyebab perbedaan gaji yang signifikan antar area, seperti perbedaan dalam struktur pekerjaan, tingkat pendidikan atau pengalaman karyawan, atau faktor-faktor lain yang memengaruhi penggajian di setiap departemen.\n",
        "\n",
        "Dengan meninjau ulang dan memperbaiki kebijakan penggajian yang tidak adil, perusahaan dapat menciptakan lingkungan kerja yang lebih adil dan mendukung, yang pada gilirannya dapat meningkatkan kepuasan karyawan dan kinerja keseluruhan perusahaan."
      ],
      "metadata": {
        "id": "L8lMbC9337ZM"
      }
    },
    {
      "cell_type": "markdown",
      "source": [
        "# **Memprediksi siapa yang akan berhenti resign ?**"
      ],
      "metadata": {
        "id": "mLnSZfvl5RFT"
      }
    },
    {
      "cell_type": "code",
      "source": [
        "# 1. Filter data berdasarkan kriteria\n",
        "filtered_data = df[(df['PerfScoreID'] < 3) &\n",
        "                   (df['EmploymentStatus'] == 'Active') &\n",
        "                   (df['EngagementSurvey'] < 3) &\n",
        "                   (df['EmpSatisfaction'] < 3) &\n",
        "                   (df['Absences'] > 5) &\n",
        "                   (df['Salary'] < 60000)]\n",
        "\n",
        "# 2. Jika ada karyawan yang memenuhi kriteria, tampilkan EmpID, Employee_Name, Sex, Position, Salary, dan Performa\n",
        "if not filtered_data.empty:\n",
        "    selected_columns = ['EmpID', 'Employee_Name', 'Position','PerformanceScore','EmpSatisfaction','Absences','EngagementSurvey' , 'PerfScoreID', 'Salary']\n",
        "    resign_candidates = filtered_data[selected_columns]\n",
        "    print(\"Berdasarkan analisis performa, berikut Karyawan yang diprediksi akan resign:\")\n",
        "    print(resign_candidates)\n",
        "else:\n",
        "    # 3. Jika tidak ada karyawan yang memenuhi kriteria, cetak pesan yang sesuai\n",
        "    print(\"Tidak ada karyawan yang memenuhi kriteria untuk diprediksi resign.\")\n"
      ],
      "metadata": {
        "colab": {
          "base_uri": "https://localhost:8080/"
        },
        "id": "4dhWvW2AERik",
        "outputId": "8414fbad-f6af-42dd-f373-9a898675a0da"
      },
      "execution_count": null,
      "outputs": [
        {
          "output_type": "stream",
          "name": "stdout",
          "text": [
            "Berdasarkan analisis performa, berikut Karyawan yang diprediksi akan resign:\n",
            "    EmpID     Employee_Name                 Position PerformanceScore  \\\n",
            "69  10310    Desimone Carl   Production Technician I              PIP   \n",
            "72  10304  Dietrich Jenna         Area Sales Manager              PIP   \n",
            "\n",
            "    EmpSatisfaction  Absences  EngagementSurvey  PerfScoreID  Salary  \n",
            "69                2         9              1.12            1   53189  \n",
            "72                1        17              2.30            1   59231  \n"
          ]
        }
      ]
    },
    {
      "cell_type": "markdown",
      "source": [
        "### **Kesimpulan Pertanyaan**\n",
        "Berdasarkan prediksi data karyawan yang akan resign dengan mempertimbangkan performa score, absensi, kontribusi terhadap perusahaan, dan penilaian kepuasan karyawan terhadap perusahaan, ditemukan dua karyawan yang mungkin akan mengundurkan diri, yaitu Desimone Carl dan Dietrich Jenna. Prediksi ini memberikan kesempatan bagi manajemen sumber daya manusia untuk melakukan tindakan preventif seperti melakukan evaluasi kinerja, memberikan dukungan lebih lanjut, atau menyesuaikan kebijakan dan program untuk mempertahankan karyawan tersebut. Dengan demikian, perusahaan dapat mengurangi risiko kehilangan bakat berharga dan mempertahankan stabilitas tenaga kerja."
      ],
      "metadata": {
        "id": "ekOoFqGxaRYw"
      }
    }
  ]
}